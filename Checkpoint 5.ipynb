{
 "cells": [
  {
   "cell_type": "code",
   "execution_count": 3,
   "id": "36495b05",
   "metadata": {},
   "outputs": [
    {
     "name": "stdout",
     "output_type": "stream",
     "text": [
      "(1, 2, 3)\n"
     ]
    }
   ],
   "source": [
    "#question1\n",
    "class Point3D :\n",
    "    def __init__(self,x,y,z):\n",
    "        self.x=x\n",
    "        self.y=y\n",
    "        self.z=z\n",
    "    def returnmethod(self):\n",
    "        tu=(self.x,self.y,self.z)\n",
    "        return tu\n",
    "my_point=Point3D(1,2,3)\n",
    "tupleout=my_point.returnmethod()\n",
    "print(tupleout)\n"
   ]
  },
  {
   "cell_type": "code",
   "execution_count": 7,
   "id": "7a9afab8",
   "metadata": {},
   "outputs": [
    {
     "name": "stdout",
     "output_type": "stream",
     "text": [
      "your rectangle have a width of 3 and a length of  4\n",
      "your area size is  12\n",
      "your perimeter is  14\n"
     ]
    }
   ],
   "source": [
    "#question2\n",
    "class Rectangle :\n",
    "    def __init__(self,length,width):\n",
    "        self.length=length\n",
    "        self.width=width\n",
    "        print(\"your rectangle have a width of\",width,\"and a length of \",length)\n",
    "    def area(self):\n",
    "        a=self.length*self.width\n",
    "        return a\n",
    "    def perimeter(self):\n",
    "        p=2*(self.length+self.width)\n",
    "        return p\n",
    "my_rectangle=Rectangle(4,3)\n",
    "print(\"your area size is \",my_rectangle.area())\n",
    "print(\"your perimeter is \",my_rectangle.perimeter())"
   ]
  },
  {
   "cell_type": "code",
   "execution_count": 17,
   "id": "69cd673a",
   "metadata": {},
   "outputs": [
    {
     "name": "stdout",
     "output_type": "stream",
     "text": [
      "write your circle name,his center coordinate:x,y,his radius seperated by coma following the previous order: c1,0,0,3\n",
      "your circle's center is at the coordinate of  (0, 0) and your circle radius is  3\n",
      "your circle area is  28.274333882308138\n",
      "your circle perimeter is  18.84955592153876\n",
      "write your point A coordinate:x,y seperated by coma following the previous order: 4,5\n",
      "your point A don't belong to the circle\n"
     ]
    }
   ],
   "source": [
    "#question3\n",
    "from math import *\n",
    "class Circle:\n",
    "    def __init__(self,xO,yO,r):\n",
    "        self.xO=xO\n",
    "        self.yO=yO\n",
    "        O=(xO,yO)\n",
    "        self.r=r\n",
    "        print(\"your circle's center is at the coordinate of \",O,\"and your circle radius is \",r)\n",
    "    def area(self,pi):\n",
    "        a=pi*(self.r**2)\n",
    "        return a\n",
    "    def perimeter(self,pi):\n",
    "        p=pi*self.r*2\n",
    "        return p\n",
    "    def isInside(self,x,y):\n",
    "        d=sqrt(((self.xO+x)**2)+((self.yO+y)**2))\n",
    "        if d<=self.r  :\n",
    "            print(\"your point A belongs to the circle\")\n",
    "        else :\n",
    "            print(\"your point A don't belong to the circle\")\n",
    "def saisiecircle():\n",
    "    inf_input=input(\"write your circle name,his center coordinate:x,y,his radius seperated by coma following the previous order: \")\n",
    "    inf_input=inf_input.split(\",\")\n",
    "    name=inf_input[0];xcenter,ycenter=int(inf_input[1]),int(inf_input[2]);radius=int(inf_input[3])\n",
    "    return name,xcenter,ycenter,radius\n",
    "    \n",
    "def saisieA():\n",
    "    pos_input=input(\"write your point A coordinate:x,y seperated by coma following the previous order: \")\n",
    "    pos_input=pos_input.split(\",\")\n",
    "    x=int(pos_input[0]);y=int(pos_input[1])\n",
    "    return x,y\n",
    "name,xcenter,ycenter,radius=saisiecircle()\n",
    "name=Circle(xcenter,ycenter,radius)\n",
    "areaout=name.area(pi)\n",
    "print(\"your circle area is \",areaout)\n",
    "perimout=name.perimeter(pi)\n",
    "print(\"your circle perimeter is \",perimout)\n",
    "x,y=saisieA()\n",
    "name.isInside(x,y)\n",
    "            "
   ]
  },
  {
   "cell_type": "code",
   "execution_count": null,
   "id": "67bc9e1e",
   "metadata": {},
   "outputs": [
    {
     "name": "stdout",
     "output_type": "stream",
     "text": [
      "write your bank account name,balance seperated by coma following the previous order: malek,100.52\n",
      "your bank account balance is  100.52\n",
      "do you want to deposit or withdraw?\n",
      "insert 1 to deposit,2 to withdraw: 1\n",
      "insert the amount :20\n",
      "your bank account balance is  120.52\n",
      "goodbye!\n",
      "insert 1 to deposit,2 to withdraw: 2\n",
      "insert the amount :5\n",
      "your bank account balance is  95.52\n",
      "goodbye!\n"
     ]
    }
   ],
   "source": [
    "#question4\n",
    "class Bank:\n",
    "    def __init__(self,b):\n",
    "        self.b=b\n",
    "        print(\"your bank account balance is \",b)\n",
    "    def deposit(self,deposit_amount):\n",
    "        newDepbal=self.b+deposit_amount\n",
    "        return newDepbal\n",
    "    def withdraw(self,withdraw_amount):\n",
    "        newWidbal=self.b-withdraw_amount\n",
    "        return newWidbal\n",
    "def saisiebalance():\n",
    "    pos_input=input(\"write your bank account name,balance seperated by coma following the previous order: \")\n",
    "    pos_input=pos_input.split(\",\")\n",
    "    x=pos_input[0];y=float(pos_input[1])\n",
    "    return x,y\n",
    "    \n",
    "x,y=saisiebalance()\n",
    "x=Bank(y)\n",
    "print (\"do you want to deposit or withdraw?\")\n",
    "while True:\n",
    "    o=int(input(\"insert 1 to deposit,2 to withdraw: \"))\n",
    "\n",
    "    if o==1:\n",
    "        a=float(input(\"insert the amount :\"))\n",
    "        newDepbal=x.deposit(a)\n",
    "        print(\"your bank account balance is \",newDepbal)\n",
    "        print(\"goodbye!\")\n",
    "    elif o==2:\n",
    "        w=int(input(\"insert the amount :\"))\n",
    "        newWidbal=x.withdraw(w)\n",
    "        print(\"your bank account balance is \",newWidbal)\n",
    "        print(\"goodbye!\")\n",
    "    "
   ]
  },
  {
   "cell_type": "code",
   "execution_count": null,
   "id": "f1a96eca",
   "metadata": {},
   "outputs": [],
   "source": []
  }
 ],
 "metadata": {
  "kernelspec": {
   "display_name": "Python 3",
   "language": "python",
   "name": "python3"
  },
  "language_info": {
   "codemirror_mode": {
    "name": "ipython",
    "version": 3
   },
   "file_extension": ".py",
   "mimetype": "text/x-python",
   "name": "python",
   "nbconvert_exporter": "python",
   "pygments_lexer": "ipython3",
   "version": "3.8.8"
  }
 },
 "nbformat": 4,
 "nbformat_minor": 5
}
